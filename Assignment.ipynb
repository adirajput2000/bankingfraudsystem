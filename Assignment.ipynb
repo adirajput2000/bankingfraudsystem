{
 "cells": [
  {
   "cell_type": "code",
   "execution_count": 62,
   "id": "0c7d7804",
   "metadata": {},
   "outputs": [],
   "source": [
    "import pandas as pd\n",
    "import numpy as np"
   ]
  },
  {
   "cell_type": "code",
   "execution_count": 63,
   "id": "e7097907",
   "metadata": {},
   "outputs": [],
   "source": [
    "data = pd.read_csv('Fraud.csv')"
   ]
  },
  {
   "cell_type": "code",
   "execution_count": 64,
   "id": "8d629534",
   "metadata": {},
   "outputs": [],
   "source": [
    "df = pd.DataFrame(data)"
   ]
  },
  {
   "cell_type": "code",
   "execution_count": 65,
   "id": "10b1590a",
   "metadata": {
    "scrolled": true
   },
   "outputs": [
    {
     "data": {
      "text/html": [
       "<div>\n",
       "<style scoped>\n",
       "    .dataframe tbody tr th:only-of-type {\n",
       "        vertical-align: middle;\n",
       "    }\n",
       "\n",
       "    .dataframe tbody tr th {\n",
       "        vertical-align: top;\n",
       "    }\n",
       "\n",
       "    .dataframe thead th {\n",
       "        text-align: right;\n",
       "    }\n",
       "</style>\n",
       "<table border=\"1\" class=\"dataframe\">\n",
       "  <thead>\n",
       "    <tr style=\"text-align: right;\">\n",
       "      <th></th>\n",
       "      <th>step</th>\n",
       "      <th>type</th>\n",
       "      <th>amount</th>\n",
       "      <th>nameOrig</th>\n",
       "      <th>oldbalanceOrg</th>\n",
       "      <th>newbalanceOrig</th>\n",
       "      <th>nameDest</th>\n",
       "      <th>oldbalanceDest</th>\n",
       "      <th>newbalanceDest</th>\n",
       "      <th>isFraud</th>\n",
       "      <th>isFlaggedFraud</th>\n",
       "    </tr>\n",
       "  </thead>\n",
       "  <tbody>\n",
       "    <tr>\n",
       "      <th>0</th>\n",
       "      <td>1</td>\n",
       "      <td>PAYMENT</td>\n",
       "      <td>9839.64</td>\n",
       "      <td>C1231006815</td>\n",
       "      <td>170136.00</td>\n",
       "      <td>160296.36</td>\n",
       "      <td>M1979787155</td>\n",
       "      <td>0.00</td>\n",
       "      <td>0.00</td>\n",
       "      <td>0</td>\n",
       "      <td>0</td>\n",
       "    </tr>\n",
       "    <tr>\n",
       "      <th>1</th>\n",
       "      <td>1</td>\n",
       "      <td>PAYMENT</td>\n",
       "      <td>1864.28</td>\n",
       "      <td>C1666544295</td>\n",
       "      <td>21249.00</td>\n",
       "      <td>19384.72</td>\n",
       "      <td>M2044282225</td>\n",
       "      <td>0.00</td>\n",
       "      <td>0.00</td>\n",
       "      <td>0</td>\n",
       "      <td>0</td>\n",
       "    </tr>\n",
       "    <tr>\n",
       "      <th>2</th>\n",
       "      <td>1</td>\n",
       "      <td>TRANSFER</td>\n",
       "      <td>181.00</td>\n",
       "      <td>C1305486145</td>\n",
       "      <td>181.00</td>\n",
       "      <td>0.00</td>\n",
       "      <td>C553264065</td>\n",
       "      <td>0.00</td>\n",
       "      <td>0.00</td>\n",
       "      <td>1</td>\n",
       "      <td>0</td>\n",
       "    </tr>\n",
       "    <tr>\n",
       "      <th>3</th>\n",
       "      <td>1</td>\n",
       "      <td>CASH_OUT</td>\n",
       "      <td>181.00</td>\n",
       "      <td>C840083671</td>\n",
       "      <td>181.00</td>\n",
       "      <td>0.00</td>\n",
       "      <td>C38997010</td>\n",
       "      <td>21182.00</td>\n",
       "      <td>0.00</td>\n",
       "      <td>1</td>\n",
       "      <td>0</td>\n",
       "    </tr>\n",
       "    <tr>\n",
       "      <th>4</th>\n",
       "      <td>1</td>\n",
       "      <td>PAYMENT</td>\n",
       "      <td>11668.14</td>\n",
       "      <td>C2048537720</td>\n",
       "      <td>41554.00</td>\n",
       "      <td>29885.86</td>\n",
       "      <td>M1230701703</td>\n",
       "      <td>0.00</td>\n",
       "      <td>0.00</td>\n",
       "      <td>0</td>\n",
       "      <td>0</td>\n",
       "    </tr>\n",
       "    <tr>\n",
       "      <th>...</th>\n",
       "      <td>...</td>\n",
       "      <td>...</td>\n",
       "      <td>...</td>\n",
       "      <td>...</td>\n",
       "      <td>...</td>\n",
       "      <td>...</td>\n",
       "      <td>...</td>\n",
       "      <td>...</td>\n",
       "      <td>...</td>\n",
       "      <td>...</td>\n",
       "      <td>...</td>\n",
       "    </tr>\n",
       "    <tr>\n",
       "      <th>6362615</th>\n",
       "      <td>743</td>\n",
       "      <td>CASH_OUT</td>\n",
       "      <td>339682.13</td>\n",
       "      <td>C786484425</td>\n",
       "      <td>339682.13</td>\n",
       "      <td>0.00</td>\n",
       "      <td>C776919290</td>\n",
       "      <td>0.00</td>\n",
       "      <td>339682.13</td>\n",
       "      <td>1</td>\n",
       "      <td>0</td>\n",
       "    </tr>\n",
       "    <tr>\n",
       "      <th>6362616</th>\n",
       "      <td>743</td>\n",
       "      <td>TRANSFER</td>\n",
       "      <td>6311409.28</td>\n",
       "      <td>C1529008245</td>\n",
       "      <td>6311409.28</td>\n",
       "      <td>0.00</td>\n",
       "      <td>C1881841831</td>\n",
       "      <td>0.00</td>\n",
       "      <td>0.00</td>\n",
       "      <td>1</td>\n",
       "      <td>0</td>\n",
       "    </tr>\n",
       "    <tr>\n",
       "      <th>6362617</th>\n",
       "      <td>743</td>\n",
       "      <td>CASH_OUT</td>\n",
       "      <td>6311409.28</td>\n",
       "      <td>C1162922333</td>\n",
       "      <td>6311409.28</td>\n",
       "      <td>0.00</td>\n",
       "      <td>C1365125890</td>\n",
       "      <td>68488.84</td>\n",
       "      <td>6379898.11</td>\n",
       "      <td>1</td>\n",
       "      <td>0</td>\n",
       "    </tr>\n",
       "    <tr>\n",
       "      <th>6362618</th>\n",
       "      <td>743</td>\n",
       "      <td>TRANSFER</td>\n",
       "      <td>850002.52</td>\n",
       "      <td>C1685995037</td>\n",
       "      <td>850002.52</td>\n",
       "      <td>0.00</td>\n",
       "      <td>C2080388513</td>\n",
       "      <td>0.00</td>\n",
       "      <td>0.00</td>\n",
       "      <td>1</td>\n",
       "      <td>0</td>\n",
       "    </tr>\n",
       "    <tr>\n",
       "      <th>6362619</th>\n",
       "      <td>743</td>\n",
       "      <td>CASH_OUT</td>\n",
       "      <td>850002.52</td>\n",
       "      <td>C1280323807</td>\n",
       "      <td>850002.52</td>\n",
       "      <td>0.00</td>\n",
       "      <td>C873221189</td>\n",
       "      <td>6510099.11</td>\n",
       "      <td>7360101.63</td>\n",
       "      <td>1</td>\n",
       "      <td>0</td>\n",
       "    </tr>\n",
       "  </tbody>\n",
       "</table>\n",
       "<p>6362620 rows × 11 columns</p>\n",
       "</div>"
      ],
      "text/plain": [
       "         step      type      amount     nameOrig  oldbalanceOrg  \\\n",
       "0           1   PAYMENT     9839.64  C1231006815      170136.00   \n",
       "1           1   PAYMENT     1864.28  C1666544295       21249.00   \n",
       "2           1  TRANSFER      181.00  C1305486145         181.00   \n",
       "3           1  CASH_OUT      181.00   C840083671         181.00   \n",
       "4           1   PAYMENT    11668.14  C2048537720       41554.00   \n",
       "...       ...       ...         ...          ...            ...   \n",
       "6362615   743  CASH_OUT   339682.13   C786484425      339682.13   \n",
       "6362616   743  TRANSFER  6311409.28  C1529008245     6311409.28   \n",
       "6362617   743  CASH_OUT  6311409.28  C1162922333     6311409.28   \n",
       "6362618   743  TRANSFER   850002.52  C1685995037      850002.52   \n",
       "6362619   743  CASH_OUT   850002.52  C1280323807      850002.52   \n",
       "\n",
       "         newbalanceOrig     nameDest  oldbalanceDest  newbalanceDest  isFraud  \\\n",
       "0             160296.36  M1979787155            0.00            0.00        0   \n",
       "1              19384.72  M2044282225            0.00            0.00        0   \n",
       "2                  0.00   C553264065            0.00            0.00        1   \n",
       "3                  0.00    C38997010        21182.00            0.00        1   \n",
       "4              29885.86  M1230701703            0.00            0.00        0   \n",
       "...                 ...          ...             ...             ...      ...   \n",
       "6362615            0.00   C776919290            0.00       339682.13        1   \n",
       "6362616            0.00  C1881841831            0.00            0.00        1   \n",
       "6362617            0.00  C1365125890        68488.84      6379898.11        1   \n",
       "6362618            0.00  C2080388513            0.00            0.00        1   \n",
       "6362619            0.00   C873221189      6510099.11      7360101.63        1   \n",
       "\n",
       "         isFlaggedFraud  \n",
       "0                     0  \n",
       "1                     0  \n",
       "2                     0  \n",
       "3                     0  \n",
       "4                     0  \n",
       "...                 ...  \n",
       "6362615               0  \n",
       "6362616               0  \n",
       "6362617               0  \n",
       "6362618               0  \n",
       "6362619               0  \n",
       "\n",
       "[6362620 rows x 11 columns]"
      ]
     },
     "execution_count": 65,
     "metadata": {},
     "output_type": "execute_result"
    }
   ],
   "source": [
    "df"
   ]
  },
  {
   "cell_type": "markdown",
   "id": "910a000f",
   "metadata": {},
   "source": [
    "# Check Null Values in DataFrame"
   ]
  },
  {
   "cell_type": "code",
   "execution_count": 66,
   "id": "adf453a2",
   "metadata": {},
   "outputs": [
    {
     "data": {
      "text/plain": [
       "False"
      ]
     },
     "execution_count": 66,
     "metadata": {},
     "output_type": "execute_result"
    }
   ],
   "source": [
    "df['step'].isnull().values.any()"
   ]
  },
  {
   "cell_type": "code",
   "execution_count": 67,
   "id": "1a679fb6",
   "metadata": {},
   "outputs": [
    {
     "data": {
      "text/plain": [
       "False"
      ]
     },
     "execution_count": 67,
     "metadata": {},
     "output_type": "execute_result"
    }
   ],
   "source": [
    "df['type'].isnull().values.any()"
   ]
  },
  {
   "cell_type": "code",
   "execution_count": 68,
   "id": "fda70f78",
   "metadata": {},
   "outputs": [
    {
     "data": {
      "text/plain": [
       "False"
      ]
     },
     "execution_count": 68,
     "metadata": {},
     "output_type": "execute_result"
    }
   ],
   "source": [
    "df['amount'].isnull().values.any()"
   ]
  },
  {
   "cell_type": "code",
   "execution_count": 69,
   "id": "7e2ec6e9",
   "metadata": {},
   "outputs": [
    {
     "data": {
      "text/plain": [
       "False"
      ]
     },
     "execution_count": 69,
     "metadata": {},
     "output_type": "execute_result"
    }
   ],
   "source": [
    "df['nameOrig'].isnull().values.any()"
   ]
  },
  {
   "cell_type": "code",
   "execution_count": 70,
   "id": "33c86f43",
   "metadata": {},
   "outputs": [
    {
     "data": {
      "text/plain": [
       "False"
      ]
     },
     "execution_count": 70,
     "metadata": {},
     "output_type": "execute_result"
    }
   ],
   "source": [
    "df['oldbalanceOrg'].isnull().values.any()"
   ]
  },
  {
   "cell_type": "code",
   "execution_count": 71,
   "id": "fb17e018",
   "metadata": {},
   "outputs": [
    {
     "data": {
      "text/plain": [
       "False"
      ]
     },
     "execution_count": 71,
     "metadata": {},
     "output_type": "execute_result"
    }
   ],
   "source": [
    "df['newbalanceOrig'].isnull().values.any()"
   ]
  },
  {
   "cell_type": "code",
   "execution_count": 72,
   "id": "e00b0c91",
   "metadata": {},
   "outputs": [
    {
     "data": {
      "text/plain": [
       "False"
      ]
     },
     "execution_count": 72,
     "metadata": {},
     "output_type": "execute_result"
    }
   ],
   "source": [
    "df['nameDest'].isnull().values.any()"
   ]
  },
  {
   "cell_type": "code",
   "execution_count": 73,
   "id": "a0cfc5a0",
   "metadata": {},
   "outputs": [
    {
     "data": {
      "text/plain": [
       "False"
      ]
     },
     "execution_count": 73,
     "metadata": {},
     "output_type": "execute_result"
    }
   ],
   "source": [
    "df['oldbalanceDest'].isnull().values.any()"
   ]
  },
  {
   "cell_type": "code",
   "execution_count": 74,
   "id": "ec2ec3fa",
   "metadata": {},
   "outputs": [
    {
     "data": {
      "text/plain": [
       "False"
      ]
     },
     "execution_count": 74,
     "metadata": {},
     "output_type": "execute_result"
    }
   ],
   "source": [
    "df['newbalanceDest'].isnull().values.any()"
   ]
  },
  {
   "cell_type": "markdown",
   "id": "2b7f1c2d",
   "metadata": {},
   "source": [
    "#There is no missing values in the data. We don't need to fill missing values."
   ]
  },
  {
   "cell_type": "markdown",
   "id": "f7322dd6",
   "metadata": {},
   "source": [
    "# Spliting data in two (Training and Testing)"
   ]
  },
  {
   "cell_type": "code",
   "execution_count": 183,
   "id": "f8a789df",
   "metadata": {},
   "outputs": [],
   "source": [
    "training_data = df.sample(frac=0.9, random_state=25)\n",
    "testing_data = df.drop(training_data.index)"
   ]
  },
  {
   "cell_type": "code",
   "execution_count": 184,
   "id": "6eea8b1e",
   "metadata": {},
   "outputs": [
    {
     "data": {
      "text/html": [
       "<div>\n",
       "<style scoped>\n",
       "    .dataframe tbody tr th:only-of-type {\n",
       "        vertical-align: middle;\n",
       "    }\n",
       "\n",
       "    .dataframe tbody tr th {\n",
       "        vertical-align: top;\n",
       "    }\n",
       "\n",
       "    .dataframe thead th {\n",
       "        text-align: right;\n",
       "    }\n",
       "</style>\n",
       "<table border=\"1\" class=\"dataframe\">\n",
       "  <thead>\n",
       "    <tr style=\"text-align: right;\">\n",
       "      <th></th>\n",
       "      <th>step</th>\n",
       "      <th>type</th>\n",
       "      <th>amount</th>\n",
       "      <th>nameOrig</th>\n",
       "      <th>oldbalanceOrg</th>\n",
       "      <th>newbalanceOrig</th>\n",
       "      <th>nameDest</th>\n",
       "      <th>oldbalanceDest</th>\n",
       "      <th>newbalanceDest</th>\n",
       "      <th>isFraud</th>\n",
       "      <th>isFlaggedFraud</th>\n",
       "    </tr>\n",
       "  </thead>\n",
       "  <tbody>\n",
       "    <tr>\n",
       "      <th>459164</th>\n",
       "      <td>19</td>\n",
       "      <td>CASH_OUT</td>\n",
       "      <td>26106.13</td>\n",
       "      <td>C58173912</td>\n",
       "      <td>100236.00</td>\n",
       "      <td>74129.87</td>\n",
       "      <td>C42901132</td>\n",
       "      <td>858940.39</td>\n",
       "      <td>885046.52</td>\n",
       "      <td>0</td>\n",
       "      <td>0</td>\n",
       "    </tr>\n",
       "    <tr>\n",
       "      <th>5869175</th>\n",
       "      <td>403</td>\n",
       "      <td>CASH_IN</td>\n",
       "      <td>353806.81</td>\n",
       "      <td>C136420659</td>\n",
       "      <td>530.00</td>\n",
       "      <td>354336.81</td>\n",
       "      <td>C741788620</td>\n",
       "      <td>133412.83</td>\n",
       "      <td>0.00</td>\n",
       "      <td>0</td>\n",
       "      <td>0</td>\n",
       "    </tr>\n",
       "    <tr>\n",
       "      <th>121445</th>\n",
       "      <td>11</td>\n",
       "      <td>PAYMENT</td>\n",
       "      <td>8787.11</td>\n",
       "      <td>C2016744086</td>\n",
       "      <td>61711.00</td>\n",
       "      <td>52923.89</td>\n",
       "      <td>M965254760</td>\n",
       "      <td>0.00</td>\n",
       "      <td>0.00</td>\n",
       "      <td>0</td>\n",
       "      <td>0</td>\n",
       "    </tr>\n",
       "    <tr>\n",
       "      <th>3912029</th>\n",
       "      <td>284</td>\n",
       "      <td>CASH_IN</td>\n",
       "      <td>79145.25</td>\n",
       "      <td>C771107310</td>\n",
       "      <td>11132357.35</td>\n",
       "      <td>11211502.61</td>\n",
       "      <td>C775191694</td>\n",
       "      <td>95066.42</td>\n",
       "      <td>15921.17</td>\n",
       "      <td>0</td>\n",
       "      <td>0</td>\n",
       "    </tr>\n",
       "    <tr>\n",
       "      <th>344645</th>\n",
       "      <td>16</td>\n",
       "      <td>CASH_OUT</td>\n",
       "      <td>356930.65</td>\n",
       "      <td>C1479370789</td>\n",
       "      <td>23852.00</td>\n",
       "      <td>0.00</td>\n",
       "      <td>C463312451</td>\n",
       "      <td>109487.00</td>\n",
       "      <td>219933.13</td>\n",
       "      <td>0</td>\n",
       "      <td>0</td>\n",
       "    </tr>\n",
       "    <tr>\n",
       "      <th>...</th>\n",
       "      <td>...</td>\n",
       "      <td>...</td>\n",
       "      <td>...</td>\n",
       "      <td>...</td>\n",
       "      <td>...</td>\n",
       "      <td>...</td>\n",
       "      <td>...</td>\n",
       "      <td>...</td>\n",
       "      <td>...</td>\n",
       "      <td>...</td>\n",
       "      <td>...</td>\n",
       "    </tr>\n",
       "    <tr>\n",
       "      <th>6002319</th>\n",
       "      <td>428</td>\n",
       "      <td>CASH_OUT</td>\n",
       "      <td>116429.31</td>\n",
       "      <td>C293788698</td>\n",
       "      <td>0.00</td>\n",
       "      <td>0.00</td>\n",
       "      <td>C1213165464</td>\n",
       "      <td>459572.55</td>\n",
       "      <td>576001.86</td>\n",
       "      <td>0</td>\n",
       "      <td>0</td>\n",
       "    </tr>\n",
       "    <tr>\n",
       "      <th>601979</th>\n",
       "      <td>34</td>\n",
       "      <td>PAYMENT</td>\n",
       "      <td>24113.71</td>\n",
       "      <td>C914313400</td>\n",
       "      <td>10097.00</td>\n",
       "      <td>0.00</td>\n",
       "      <td>M552817842</td>\n",
       "      <td>0.00</td>\n",
       "      <td>0.00</td>\n",
       "      <td>0</td>\n",
       "      <td>0</td>\n",
       "    </tr>\n",
       "    <tr>\n",
       "      <th>4552582</th>\n",
       "      <td>327</td>\n",
       "      <td>TRANSFER</td>\n",
       "      <td>10000000.00</td>\n",
       "      <td>C809402225</td>\n",
       "      <td>90029.00</td>\n",
       "      <td>0.00</td>\n",
       "      <td>C530916999</td>\n",
       "      <td>348892.13</td>\n",
       "      <td>15065045.80</td>\n",
       "      <td>0</td>\n",
       "      <td>0</td>\n",
       "    </tr>\n",
       "    <tr>\n",
       "      <th>5870083</th>\n",
       "      <td>403</td>\n",
       "      <td>CASH_OUT</td>\n",
       "      <td>132047.69</td>\n",
       "      <td>C1692683261</td>\n",
       "      <td>229424.00</td>\n",
       "      <td>97376.31</td>\n",
       "      <td>C1942732094</td>\n",
       "      <td>2433670.04</td>\n",
       "      <td>2565717.73</td>\n",
       "      <td>0</td>\n",
       "      <td>0</td>\n",
       "    </tr>\n",
       "    <tr>\n",
       "      <th>3360711</th>\n",
       "      <td>254</td>\n",
       "      <td>CASH_OUT</td>\n",
       "      <td>173304.39</td>\n",
       "      <td>C1586536793</td>\n",
       "      <td>0.00</td>\n",
       "      <td>0.00</td>\n",
       "      <td>C1553217607</td>\n",
       "      <td>7149472.67</td>\n",
       "      <td>7322777.06</td>\n",
       "      <td>0</td>\n",
       "      <td>0</td>\n",
       "    </tr>\n",
       "  </tbody>\n",
       "</table>\n",
       "<p>5726358 rows × 11 columns</p>\n",
       "</div>"
      ],
      "text/plain": [
       "         step      type       amount     nameOrig  oldbalanceOrg  \\\n",
       "459164     19  CASH_OUT     26106.13    C58173912      100236.00   \n",
       "5869175   403   CASH_IN    353806.81   C136420659         530.00   \n",
       "121445     11   PAYMENT      8787.11  C2016744086       61711.00   \n",
       "3912029   284   CASH_IN     79145.25   C771107310    11132357.35   \n",
       "344645     16  CASH_OUT    356930.65  C1479370789       23852.00   \n",
       "...       ...       ...          ...          ...            ...   \n",
       "6002319   428  CASH_OUT    116429.31   C293788698           0.00   \n",
       "601979     34   PAYMENT     24113.71   C914313400       10097.00   \n",
       "4552582   327  TRANSFER  10000000.00   C809402225       90029.00   \n",
       "5870083   403  CASH_OUT    132047.69  C1692683261      229424.00   \n",
       "3360711   254  CASH_OUT    173304.39  C1586536793           0.00   \n",
       "\n",
       "         newbalanceOrig     nameDest  oldbalanceDest  newbalanceDest  isFraud  \\\n",
       "459164         74129.87    C42901132       858940.39       885046.52        0   \n",
       "5869175       354336.81   C741788620       133412.83            0.00        0   \n",
       "121445         52923.89   M965254760            0.00            0.00        0   \n",
       "3912029     11211502.61   C775191694        95066.42        15921.17        0   \n",
       "344645             0.00   C463312451       109487.00       219933.13        0   \n",
       "...                 ...          ...             ...             ...      ...   \n",
       "6002319            0.00  C1213165464       459572.55       576001.86        0   \n",
       "601979             0.00   M552817842            0.00            0.00        0   \n",
       "4552582            0.00   C530916999       348892.13     15065045.80        0   \n",
       "5870083        97376.31  C1942732094      2433670.04      2565717.73        0   \n",
       "3360711            0.00  C1553217607      7149472.67      7322777.06        0   \n",
       "\n",
       "         isFlaggedFraud  \n",
       "459164                0  \n",
       "5869175               0  \n",
       "121445                0  \n",
       "3912029               0  \n",
       "344645                0  \n",
       "...                 ...  \n",
       "6002319               0  \n",
       "601979                0  \n",
       "4552582               0  \n",
       "5870083               0  \n",
       "3360711               0  \n",
       "\n",
       "[5726358 rows x 11 columns]"
      ]
     },
     "execution_count": 184,
     "metadata": {},
     "output_type": "execute_result"
    }
   ],
   "source": [
    "training_data"
   ]
  },
  {
   "cell_type": "code",
   "execution_count": 185,
   "id": "eb5c4240",
   "metadata": {},
   "outputs": [
    {
     "data": {
      "text/html": [
       "<div>\n",
       "<style scoped>\n",
       "    .dataframe tbody tr th:only-of-type {\n",
       "        vertical-align: middle;\n",
       "    }\n",
       "\n",
       "    .dataframe tbody tr th {\n",
       "        vertical-align: top;\n",
       "    }\n",
       "\n",
       "    .dataframe thead th {\n",
       "        text-align: right;\n",
       "    }\n",
       "</style>\n",
       "<table border=\"1\" class=\"dataframe\">\n",
       "  <thead>\n",
       "    <tr style=\"text-align: right;\">\n",
       "      <th></th>\n",
       "      <th>step</th>\n",
       "      <th>type</th>\n",
       "      <th>amount</th>\n",
       "      <th>nameOrig</th>\n",
       "      <th>oldbalanceOrg</th>\n",
       "      <th>newbalanceOrig</th>\n",
       "      <th>nameDest</th>\n",
       "      <th>oldbalanceDest</th>\n",
       "      <th>newbalanceDest</th>\n",
       "      <th>isFraud</th>\n",
       "      <th>isFlaggedFraud</th>\n",
       "    </tr>\n",
       "  </thead>\n",
       "  <tbody>\n",
       "    <tr>\n",
       "      <th>16</th>\n",
       "      <td>1</td>\n",
       "      <td>PAYMENT</td>\n",
       "      <td>1563.82</td>\n",
       "      <td>C761750706</td>\n",
       "      <td>450.00</td>\n",
       "      <td>0.00</td>\n",
       "      <td>M1731217984</td>\n",
       "      <td>0.0</td>\n",
       "      <td>0.00</td>\n",
       "      <td>0</td>\n",
       "      <td>0</td>\n",
       "    </tr>\n",
       "    <tr>\n",
       "      <th>24</th>\n",
       "      <td>1</td>\n",
       "      <td>TRANSFER</td>\n",
       "      <td>311685.89</td>\n",
       "      <td>C1984094095</td>\n",
       "      <td>10835.00</td>\n",
       "      <td>0.00</td>\n",
       "      <td>C932583850</td>\n",
       "      <td>6267.0</td>\n",
       "      <td>2719172.89</td>\n",
       "      <td>0</td>\n",
       "      <td>0</td>\n",
       "    </tr>\n",
       "    <tr>\n",
       "      <th>32</th>\n",
       "      <td>1</td>\n",
       "      <td>PAYMENT</td>\n",
       "      <td>5885.56</td>\n",
       "      <td>C840514538</td>\n",
       "      <td>0.00</td>\n",
       "      <td>0.00</td>\n",
       "      <td>M1804441305</td>\n",
       "      <td>0.0</td>\n",
       "      <td>0.00</td>\n",
       "      <td>0</td>\n",
       "      <td>0</td>\n",
       "    </tr>\n",
       "    <tr>\n",
       "      <th>34</th>\n",
       "      <td>1</td>\n",
       "      <td>PAYMENT</td>\n",
       "      <td>5031.22</td>\n",
       "      <td>C247113419</td>\n",
       "      <td>0.00</td>\n",
       "      <td>0.00</td>\n",
       "      <td>M151442075</td>\n",
       "      <td>0.0</td>\n",
       "      <td>0.00</td>\n",
       "      <td>0</td>\n",
       "      <td>0</td>\n",
       "    </tr>\n",
       "    <tr>\n",
       "      <th>52</th>\n",
       "      <td>1</td>\n",
       "      <td>PAYMENT</td>\n",
       "      <td>2330.64</td>\n",
       "      <td>C816944408</td>\n",
       "      <td>203543.00</td>\n",
       "      <td>201212.36</td>\n",
       "      <td>M909132503</td>\n",
       "      <td>0.0</td>\n",
       "      <td>0.00</td>\n",
       "      <td>0</td>\n",
       "      <td>0</td>\n",
       "    </tr>\n",
       "    <tr>\n",
       "      <th>...</th>\n",
       "      <td>...</td>\n",
       "      <td>...</td>\n",
       "      <td>...</td>\n",
       "      <td>...</td>\n",
       "      <td>...</td>\n",
       "      <td>...</td>\n",
       "      <td>...</td>\n",
       "      <td>...</td>\n",
       "      <td>...</td>\n",
       "      <td>...</td>\n",
       "      <td>...</td>\n",
       "    </tr>\n",
       "    <tr>\n",
       "      <th>6362593</th>\n",
       "      <td>741</td>\n",
       "      <td>CASH_OUT</td>\n",
       "      <td>383661.10</td>\n",
       "      <td>C369315575</td>\n",
       "      <td>383661.10</td>\n",
       "      <td>0.00</td>\n",
       "      <td>C2069429837</td>\n",
       "      <td>1788112.7</td>\n",
       "      <td>2171773.80</td>\n",
       "      <td>1</td>\n",
       "      <td>0</td>\n",
       "    </tr>\n",
       "    <tr>\n",
       "      <th>6362601</th>\n",
       "      <td>742</td>\n",
       "      <td>CASH_OUT</td>\n",
       "      <td>652993.91</td>\n",
       "      <td>C1614818636</td>\n",
       "      <td>652993.91</td>\n",
       "      <td>0.00</td>\n",
       "      <td>C362803701</td>\n",
       "      <td>0.0</td>\n",
       "      <td>652993.91</td>\n",
       "      <td>1</td>\n",
       "      <td>0</td>\n",
       "    </tr>\n",
       "    <tr>\n",
       "      <th>6362602</th>\n",
       "      <td>742</td>\n",
       "      <td>TRANSFER</td>\n",
       "      <td>1819543.69</td>\n",
       "      <td>C2089752665</td>\n",
       "      <td>1819543.69</td>\n",
       "      <td>0.00</td>\n",
       "      <td>C112833674</td>\n",
       "      <td>0.0</td>\n",
       "      <td>0.00</td>\n",
       "      <td>1</td>\n",
       "      <td>0</td>\n",
       "    </tr>\n",
       "    <tr>\n",
       "      <th>6362604</th>\n",
       "      <td>742</td>\n",
       "      <td>TRANSFER</td>\n",
       "      <td>54652.46</td>\n",
       "      <td>C1674778854</td>\n",
       "      <td>54652.46</td>\n",
       "      <td>0.00</td>\n",
       "      <td>C1930074465</td>\n",
       "      <td>0.0</td>\n",
       "      <td>0.00</td>\n",
       "      <td>1</td>\n",
       "      <td>0</td>\n",
       "    </tr>\n",
       "    <tr>\n",
       "      <th>6362608</th>\n",
       "      <td>742</td>\n",
       "      <td>TRANSFER</td>\n",
       "      <td>258355.42</td>\n",
       "      <td>C1226129332</td>\n",
       "      <td>258355.42</td>\n",
       "      <td>0.00</td>\n",
       "      <td>C1744173808</td>\n",
       "      <td>0.0</td>\n",
       "      <td>0.00</td>\n",
       "      <td>1</td>\n",
       "      <td>0</td>\n",
       "    </tr>\n",
       "  </tbody>\n",
       "</table>\n",
       "<p>636262 rows × 11 columns</p>\n",
       "</div>"
      ],
      "text/plain": [
       "         step      type      amount     nameOrig  oldbalanceOrg  \\\n",
       "16          1   PAYMENT     1563.82   C761750706         450.00   \n",
       "24          1  TRANSFER   311685.89  C1984094095       10835.00   \n",
       "32          1   PAYMENT     5885.56   C840514538           0.00   \n",
       "34          1   PAYMENT     5031.22   C247113419           0.00   \n",
       "52          1   PAYMENT     2330.64   C816944408      203543.00   \n",
       "...       ...       ...         ...          ...            ...   \n",
       "6362593   741  CASH_OUT   383661.10   C369315575      383661.10   \n",
       "6362601   742  CASH_OUT   652993.91  C1614818636      652993.91   \n",
       "6362602   742  TRANSFER  1819543.69  C2089752665     1819543.69   \n",
       "6362604   742  TRANSFER    54652.46  C1674778854       54652.46   \n",
       "6362608   742  TRANSFER   258355.42  C1226129332      258355.42   \n",
       "\n",
       "         newbalanceOrig     nameDest  oldbalanceDest  newbalanceDest  isFraud  \\\n",
       "16                 0.00  M1731217984             0.0            0.00        0   \n",
       "24                 0.00   C932583850          6267.0      2719172.89        0   \n",
       "32                 0.00  M1804441305             0.0            0.00        0   \n",
       "34                 0.00   M151442075             0.0            0.00        0   \n",
       "52            201212.36   M909132503             0.0            0.00        0   \n",
       "...                 ...          ...             ...             ...      ...   \n",
       "6362593            0.00  C2069429837       1788112.7      2171773.80        1   \n",
       "6362601            0.00   C362803701             0.0       652993.91        1   \n",
       "6362602            0.00   C112833674             0.0            0.00        1   \n",
       "6362604            0.00  C1930074465             0.0            0.00        1   \n",
       "6362608            0.00  C1744173808             0.0            0.00        1   \n",
       "\n",
       "         isFlaggedFraud  \n",
       "16                    0  \n",
       "24                    0  \n",
       "32                    0  \n",
       "34                    0  \n",
       "52                    0  \n",
       "...                 ...  \n",
       "6362593               0  \n",
       "6362601               0  \n",
       "6362602               0  \n",
       "6362604               0  \n",
       "6362608               0  \n",
       "\n",
       "[636262 rows x 11 columns]"
      ]
     },
     "execution_count": 185,
     "metadata": {},
     "output_type": "execute_result"
    }
   ],
   "source": [
    "testing_data"
   ]
  },
  {
   "cell_type": "markdown",
   "id": "9c0f1640",
   "metadata": {},
   "source": [
    "# Statistical View of Data"
   ]
  },
  {
   "cell_type": "code",
   "execution_count": 32,
   "id": "805877a2",
   "metadata": {},
   "outputs": [
    {
     "data": {
      "text/html": [
       "<div>\n",
       "<style scoped>\n",
       "    .dataframe tbody tr th:only-of-type {\n",
       "        vertical-align: middle;\n",
       "    }\n",
       "\n",
       "    .dataframe tbody tr th {\n",
       "        vertical-align: top;\n",
       "    }\n",
       "\n",
       "    .dataframe thead th {\n",
       "        text-align: right;\n",
       "    }\n",
       "</style>\n",
       "<table border=\"1\" class=\"dataframe\">\n",
       "  <thead>\n",
       "    <tr style=\"text-align: right;\">\n",
       "      <th></th>\n",
       "      <th>step</th>\n",
       "      <th>amount</th>\n",
       "      <th>oldbalanceOrg</th>\n",
       "      <th>newbalanceOrig</th>\n",
       "      <th>oldbalanceDest</th>\n",
       "      <th>newbalanceDest</th>\n",
       "      <th>isFraud</th>\n",
       "      <th>isFlaggedFraud</th>\n",
       "    </tr>\n",
       "  </thead>\n",
       "  <tbody>\n",
       "    <tr>\n",
       "      <th>count</th>\n",
       "      <td>6.362620e+06</td>\n",
       "      <td>6.362620e+06</td>\n",
       "      <td>6.362620e+06</td>\n",
       "      <td>6.362620e+06</td>\n",
       "      <td>6.362620e+06</td>\n",
       "      <td>6.362620e+06</td>\n",
       "      <td>6.362620e+06</td>\n",
       "      <td>6.362620e+06</td>\n",
       "    </tr>\n",
       "    <tr>\n",
       "      <th>mean</th>\n",
       "      <td>2.433972e+02</td>\n",
       "      <td>1.798619e+05</td>\n",
       "      <td>8.338831e+05</td>\n",
       "      <td>8.551137e+05</td>\n",
       "      <td>1.100702e+06</td>\n",
       "      <td>1.224996e+06</td>\n",
       "      <td>1.290820e-03</td>\n",
       "      <td>2.514687e-06</td>\n",
       "    </tr>\n",
       "    <tr>\n",
       "      <th>std</th>\n",
       "      <td>1.423320e+02</td>\n",
       "      <td>6.038582e+05</td>\n",
       "      <td>2.888243e+06</td>\n",
       "      <td>2.924049e+06</td>\n",
       "      <td>3.399180e+06</td>\n",
       "      <td>3.674129e+06</td>\n",
       "      <td>3.590480e-02</td>\n",
       "      <td>1.585775e-03</td>\n",
       "    </tr>\n",
       "    <tr>\n",
       "      <th>min</th>\n",
       "      <td>1.000000e+00</td>\n",
       "      <td>0.000000e+00</td>\n",
       "      <td>0.000000e+00</td>\n",
       "      <td>0.000000e+00</td>\n",
       "      <td>0.000000e+00</td>\n",
       "      <td>0.000000e+00</td>\n",
       "      <td>0.000000e+00</td>\n",
       "      <td>0.000000e+00</td>\n",
       "    </tr>\n",
       "    <tr>\n",
       "      <th>25%</th>\n",
       "      <td>1.560000e+02</td>\n",
       "      <td>1.338957e+04</td>\n",
       "      <td>0.000000e+00</td>\n",
       "      <td>0.000000e+00</td>\n",
       "      <td>0.000000e+00</td>\n",
       "      <td>0.000000e+00</td>\n",
       "      <td>0.000000e+00</td>\n",
       "      <td>0.000000e+00</td>\n",
       "    </tr>\n",
       "    <tr>\n",
       "      <th>50%</th>\n",
       "      <td>2.390000e+02</td>\n",
       "      <td>7.487194e+04</td>\n",
       "      <td>1.420800e+04</td>\n",
       "      <td>0.000000e+00</td>\n",
       "      <td>1.327057e+05</td>\n",
       "      <td>2.146614e+05</td>\n",
       "      <td>0.000000e+00</td>\n",
       "      <td>0.000000e+00</td>\n",
       "    </tr>\n",
       "    <tr>\n",
       "      <th>75%</th>\n",
       "      <td>3.350000e+02</td>\n",
       "      <td>2.087215e+05</td>\n",
       "      <td>1.073152e+05</td>\n",
       "      <td>1.442584e+05</td>\n",
       "      <td>9.430367e+05</td>\n",
       "      <td>1.111909e+06</td>\n",
       "      <td>0.000000e+00</td>\n",
       "      <td>0.000000e+00</td>\n",
       "    </tr>\n",
       "    <tr>\n",
       "      <th>max</th>\n",
       "      <td>7.430000e+02</td>\n",
       "      <td>9.244552e+07</td>\n",
       "      <td>5.958504e+07</td>\n",
       "      <td>4.958504e+07</td>\n",
       "      <td>3.560159e+08</td>\n",
       "      <td>3.561793e+08</td>\n",
       "      <td>1.000000e+00</td>\n",
       "      <td>1.000000e+00</td>\n",
       "    </tr>\n",
       "  </tbody>\n",
       "</table>\n",
       "</div>"
      ],
      "text/plain": [
       "               step        amount  oldbalanceOrg  newbalanceOrig  \\\n",
       "count  6.362620e+06  6.362620e+06   6.362620e+06    6.362620e+06   \n",
       "mean   2.433972e+02  1.798619e+05   8.338831e+05    8.551137e+05   \n",
       "std    1.423320e+02  6.038582e+05   2.888243e+06    2.924049e+06   \n",
       "min    1.000000e+00  0.000000e+00   0.000000e+00    0.000000e+00   \n",
       "25%    1.560000e+02  1.338957e+04   0.000000e+00    0.000000e+00   \n",
       "50%    2.390000e+02  7.487194e+04   1.420800e+04    0.000000e+00   \n",
       "75%    3.350000e+02  2.087215e+05   1.073152e+05    1.442584e+05   \n",
       "max    7.430000e+02  9.244552e+07   5.958504e+07    4.958504e+07   \n",
       "\n",
       "       oldbalanceDest  newbalanceDest       isFraud  isFlaggedFraud  \n",
       "count    6.362620e+06    6.362620e+06  6.362620e+06    6.362620e+06  \n",
       "mean     1.100702e+06    1.224996e+06  1.290820e-03    2.514687e-06  \n",
       "std      3.399180e+06    3.674129e+06  3.590480e-02    1.585775e-03  \n",
       "min      0.000000e+00    0.000000e+00  0.000000e+00    0.000000e+00  \n",
       "25%      0.000000e+00    0.000000e+00  0.000000e+00    0.000000e+00  \n",
       "50%      1.327057e+05    2.146614e+05  0.000000e+00    0.000000e+00  \n",
       "75%      9.430367e+05    1.111909e+06  0.000000e+00    0.000000e+00  \n",
       "max      3.560159e+08    3.561793e+08  1.000000e+00    1.000000e+00  "
      ]
     },
     "execution_count": 32,
     "metadata": {},
     "output_type": "execute_result"
    }
   ],
   "source": [
    "df.describe()"
   ]
  },
  {
   "cell_type": "markdown",
   "id": "8f10cc27",
   "metadata": {},
   "source": [
    "# Removing Outliers"
   ]
  },
  {
   "cell_type": "code",
   "execution_count": 187,
   "id": "7c4ad96d",
   "metadata": {},
   "outputs": [],
   "source": [
    "training_data = training_data[~(np.array(training_data['amount']>300000))]\n",
    "#The data points which fall below Q1 – 1.5 IQR or above Q3 + 1.5 IQR are outliers.\n",
    "\n",
    "testing_data = testing_data[~(np.array(testing_data['amount']>300000))]   #The data points which fall below Q1 – 1.5 IQR or above Q3 + 1.5 IQR are outliers."
   ]
  },
  {
   "cell_type": "code",
   "execution_count": 188,
   "id": "1dfc8c89",
   "metadata": {},
   "outputs": [],
   "source": [
    "training_data = training_data[~(np.array(training_data['oldbalanceOrg']>250000))]\n",
    "#The data points which fall below Q1 – 1.5 IQR or above Q3 + 1.5 IQR are outliers.\n",
    "\n",
    "testing_data = testing_data[~(np.array(testing_data['oldbalanceOrg']>250000))]"
   ]
  },
  {
   "cell_type": "code",
   "execution_count": 189,
   "id": "fe60130a",
   "metadata": {},
   "outputs": [],
   "source": [
    "training_data = training_data[~(np.array(training_data['newbalanceOrig']>62500))]   #The data points which fall below Q1 – 1.5 IQR or above Q3 + 1.5 IQR are outliers.\n",
    "training_data = training_data[~(np.array(training_data['oldbalanceDest']>1250000))]   #The data points which fall below Q1 – 1.5 IQR or above Q3 + 1.5 IQR are outliers.\n",
    "training_data = training_data[~(np.array(training_data['newbalanceDest']>1500000))]   #The data points which fall below Q1 – 1.5 IQR or above Q3 + 1.5 IQR are outliers.\n",
    "\n",
    "testing_data = testing_data[~(np.array(testing_data['newbalanceOrig']>62500))]   #The data points which fall below Q1 – 1.5 IQR or above Q3 + 1.5 IQR are outliers.\n",
    "testing_data = testing_data[~(np.array(testing_data['oldbalanceDest']>1250000))]   #The data points which fall below Q1 – 1.5 IQR or above Q3 + 1.5 IQR are outliers.\n",
    "testing_data = testing_data[~(np.array(testing_data['newbalanceDest']>1500000))]   #The data points which fall below Q1 – 1.5 IQR or above Q3 + 1.5 IQR are outliers.\n"
   ]
  },
  {
   "cell_type": "code",
   "execution_count": 197,
   "id": "1263d403",
   "metadata": {},
   "outputs": [
    {
     "data": {
      "text/html": [
       "<div>\n",
       "<style scoped>\n",
       "    .dataframe tbody tr th:only-of-type {\n",
       "        vertical-align: middle;\n",
       "    }\n",
       "\n",
       "    .dataframe tbody tr th {\n",
       "        vertical-align: top;\n",
       "    }\n",
       "\n",
       "    .dataframe thead th {\n",
       "        text-align: right;\n",
       "    }\n",
       "</style>\n",
       "<table border=\"1\" class=\"dataframe\">\n",
       "  <thead>\n",
       "    <tr style=\"text-align: right;\">\n",
       "      <th></th>\n",
       "      <th>step</th>\n",
       "      <th>amount</th>\n",
       "      <th>oldbalanceOrg</th>\n",
       "      <th>newbalanceOrig</th>\n",
       "      <th>oldbalanceDest</th>\n",
       "      <th>newbalanceDest</th>\n",
       "      <th>isFraud</th>\n",
       "      <th>isFlaggedFraud</th>\n",
       "    </tr>\n",
       "  </thead>\n",
       "  <tbody>\n",
       "    <tr>\n",
       "      <th>count</th>\n",
       "      <td>2.785211e+06</td>\n",
       "      <td>2.785211e+06</td>\n",
       "      <td>2.785211e+06</td>\n",
       "      <td>2.785211e+06</td>\n",
       "      <td>2.785211e+06</td>\n",
       "      <td>2.785211e+06</td>\n",
       "      <td>2.785211e+06</td>\n",
       "      <td>2785211.0</td>\n",
       "    </tr>\n",
       "    <tr>\n",
       "      <th>mean</th>\n",
       "      <td>2.461297e+02</td>\n",
       "      <td>6.472219e+04</td>\n",
       "      <td>1.582795e+04</td>\n",
       "      <td>5.505281e+03</td>\n",
       "      <td>1.569546e+05</td>\n",
       "      <td>2.156334e+05</td>\n",
       "      <td>9.148319e-04</td>\n",
       "      <td>0.0</td>\n",
       "    </tr>\n",
       "    <tr>\n",
       "      <th>std</th>\n",
       "      <td>1.413103e+02</td>\n",
       "      <td>7.931243e+04</td>\n",
       "      <td>2.866313e+04</td>\n",
       "      <td>1.305858e+04</td>\n",
       "      <td>2.844196e+05</td>\n",
       "      <td>3.380069e+05</td>\n",
       "      <td>3.023236e-02</td>\n",
       "      <td>0.0</td>\n",
       "    </tr>\n",
       "    <tr>\n",
       "      <th>min</th>\n",
       "      <td>1.000000e+00</td>\n",
       "      <td>0.000000e+00</td>\n",
       "      <td>0.000000e+00</td>\n",
       "      <td>0.000000e+00</td>\n",
       "      <td>0.000000e+00</td>\n",
       "      <td>0.000000e+00</td>\n",
       "      <td>0.000000e+00</td>\n",
       "      <td>0.0</td>\n",
       "    </tr>\n",
       "    <tr>\n",
       "      <th>25%</th>\n",
       "      <td>1.580000e+02</td>\n",
       "      <td>7.927665e+03</td>\n",
       "      <td>0.000000e+00</td>\n",
       "      <td>0.000000e+00</td>\n",
       "      <td>0.000000e+00</td>\n",
       "      <td>0.000000e+00</td>\n",
       "      <td>0.000000e+00</td>\n",
       "      <td>0.0</td>\n",
       "    </tr>\n",
       "    <tr>\n",
       "      <th>50%</th>\n",
       "      <td>2.500000e+02</td>\n",
       "      <td>2.273753e+04</td>\n",
       "      <td>5.070000e+02</td>\n",
       "      <td>0.000000e+00</td>\n",
       "      <td>0.000000e+00</td>\n",
       "      <td>0.000000e+00</td>\n",
       "      <td>0.000000e+00</td>\n",
       "      <td>0.0</td>\n",
       "    </tr>\n",
       "    <tr>\n",
       "      <th>75%</th>\n",
       "      <td>3.450000e+02</td>\n",
       "      <td>1.052058e+05</td>\n",
       "      <td>2.105900e+04</td>\n",
       "      <td>0.000000e+00</td>\n",
       "      <td>2.100078e+05</td>\n",
       "      <td>3.276320e+05</td>\n",
       "      <td>0.000000e+00</td>\n",
       "      <td>0.0</td>\n",
       "    </tr>\n",
       "    <tr>\n",
       "      <th>max</th>\n",
       "      <td>7.420000e+02</td>\n",
       "      <td>2.999998e+05</td>\n",
       "      <td>2.499960e+05</td>\n",
       "      <td>6.249997e+04</td>\n",
       "      <td>1.249990e+06</td>\n",
       "      <td>1.499999e+06</td>\n",
       "      <td>1.000000e+00</td>\n",
       "      <td>0.0</td>\n",
       "    </tr>\n",
       "  </tbody>\n",
       "</table>\n",
       "</div>"
      ],
      "text/plain": [
       "               step        amount  oldbalanceOrg  newbalanceOrig  \\\n",
       "count  2.785211e+06  2.785211e+06   2.785211e+06    2.785211e+06   \n",
       "mean   2.461297e+02  6.472219e+04   1.582795e+04    5.505281e+03   \n",
       "std    1.413103e+02  7.931243e+04   2.866313e+04    1.305858e+04   \n",
       "min    1.000000e+00  0.000000e+00   0.000000e+00    0.000000e+00   \n",
       "25%    1.580000e+02  7.927665e+03   0.000000e+00    0.000000e+00   \n",
       "50%    2.500000e+02  2.273753e+04   5.070000e+02    0.000000e+00   \n",
       "75%    3.450000e+02  1.052058e+05   2.105900e+04    0.000000e+00   \n",
       "max    7.420000e+02  2.999998e+05   2.499960e+05    6.249997e+04   \n",
       "\n",
       "       oldbalanceDest  newbalanceDest       isFraud  isFlaggedFraud  \n",
       "count    2.785211e+06    2.785211e+06  2.785211e+06       2785211.0  \n",
       "mean     1.569546e+05    2.156334e+05  9.148319e-04             0.0  \n",
       "std      2.844196e+05    3.380069e+05  3.023236e-02             0.0  \n",
       "min      0.000000e+00    0.000000e+00  0.000000e+00             0.0  \n",
       "25%      0.000000e+00    0.000000e+00  0.000000e+00             0.0  \n",
       "50%      0.000000e+00    0.000000e+00  0.000000e+00             0.0  \n",
       "75%      2.100078e+05    3.276320e+05  0.000000e+00             0.0  \n",
       "max      1.249990e+06    1.499999e+06  1.000000e+00             0.0  "
      ]
     },
     "execution_count": 197,
     "metadata": {},
     "output_type": "execute_result"
    }
   ],
   "source": [
    "training_data.describe()"
   ]
  },
  {
   "cell_type": "code",
   "execution_count": 53,
   "id": "caa5e62b",
   "metadata": {},
   "outputs": [],
   "source": [
    "#Here we remove mostly outlier using statitics describe "
   ]
  },
  {
   "cell_type": "markdown",
   "id": "0cce124d",
   "metadata": {},
   "source": [
    "# Multicollinearity using VIF"
   ]
  },
  {
   "cell_type": "code",
   "execution_count": 163,
   "id": "f4e08ce3",
   "metadata": {},
   "outputs": [
    {
     "name": "stdout",
     "output_type": "stream",
     "text": [
      "          feature        VIF\n",
      "0          amount   5.899748\n",
      "1   oldbalanceOrg   1.991578\n",
      "2  newbalanceOrig   1.616178\n",
      "3  oldbalanceDest  41.395573\n",
      "4  newbalanceDest  59.879722\n",
      "5         isFraud   1.013856\n"
     ]
    }
   ],
   "source": [
    "from statsmodels.stats.outliers_influence import variance_inflation_factor\n",
    "  \n",
    "\n",
    "X = training_data[['amount', 'oldbalanceOrg', 'newbalanceOrig','oldbalanceDest','newbalanceDest','isFraud']]\n",
    "  \n",
    "# VIF dataframe\n",
    "vif_data = pd.DataFrame()\n",
    "vif_data[\"feature\"] = X.columns\n",
    "  \n",
    "    \n",
    "# calculating VIF for each feature\n",
    "vif_data[\"VIF\"] = [variance_inflation_factor(X.values, i)\n",
    "                          for i in range(len(X.columns))]\n",
    "  \n",
    "print(vif_data)"
   ]
  },
  {
   "cell_type": "code",
   "execution_count": 164,
   "id": "6fd1069b",
   "metadata": {},
   "outputs": [],
   "source": [
    "# We remove the newblanceorgin and old balanceorigin, as it will the final amount after the transcation"
   ]
  },
  {
   "cell_type": "code",
   "execution_count": 165,
   "id": "f8ace6dc",
   "metadata": {},
   "outputs": [],
   "source": [
    "Y = X['isFraud']\n",
    "X = X.drop(['oldbalanceDest', 'newbalanceDest','isFraud','newbalanceDest'], axis=1)"
   ]
  },
  {
   "cell_type": "markdown",
   "id": "dff4d0bc",
   "metadata": {},
   "source": [
    "# Here we use Random Forest Classification\n"
   ]
  },
  {
   "cell_type": "code",
   "execution_count": 166,
   "id": "b5416555",
   "metadata": {},
   "outputs": [],
   "source": [
    "from sklearn.ensemble import RandomForestClassifier"
   ]
  },
  {
   "cell_type": "code",
   "execution_count": 167,
   "id": "17f3582d",
   "metadata": {},
   "outputs": [],
   "source": [
    "rf = RandomForestClassifier()"
   ]
  },
  {
   "cell_type": "code",
   "execution_count": 168,
   "id": "23cffeda",
   "metadata": {},
   "outputs": [
    {
     "data": {
      "text/plain": [
       "RandomForestClassifier()"
      ]
     },
     "execution_count": 168,
     "metadata": {},
     "output_type": "execute_result"
    }
   ],
   "source": [
    "rf.fit(X,Y)"
   ]
  },
  {
   "cell_type": "markdown",
   "id": "e1d23ecf",
   "metadata": {},
   "source": [
    "# Try to predict some values"
   ]
  },
  {
   "cell_type": "code",
   "execution_count": 177,
   "id": "0067dffd",
   "metadata": {},
   "outputs": [],
   "source": [
    "check = rf.predict([[47721.95,47721.95,0]])"
   ]
  },
  {
   "cell_type": "code",
   "execution_count": 178,
   "id": "f0aa8acd",
   "metadata": {},
   "outputs": [
    {
     "data": {
      "text/plain": [
       "array([1], dtype=int64)"
      ]
     },
     "execution_count": 178,
     "metadata": {},
     "output_type": "execute_result"
    }
   ],
   "source": [
    "check"
   ]
  },
  {
   "cell_type": "code",
   "execution_count": 202,
   "id": "63de863e",
   "metadata": {},
   "outputs": [],
   "source": [
    "check = rf.predict([[1563.82,450.00,0]])"
   ]
  },
  {
   "cell_type": "code",
   "execution_count": 203,
   "id": "945a2322",
   "metadata": {},
   "outputs": [
    {
     "data": {
      "text/plain": [
       "array([0], dtype=int64)"
      ]
     },
     "execution_count": 203,
     "metadata": {},
     "output_type": "execute_result"
    }
   ],
   "source": [
    "check"
   ]
  },
  {
   "cell_type": "markdown",
   "id": "4d8dbf26",
   "metadata": {},
   "source": [
    "# Check the accuracy of Model using Test data set"
   ]
  },
  {
   "cell_type": "code",
   "execution_count": 195,
   "id": "f820704b",
   "metadata": {},
   "outputs": [],
   "source": [
    "from sklearn.metrics import accuracy_score\n",
    "S = ['amount','oldbalanceOrg','newbalanceOrig']\n",
    "y_predict = rf.predict(testing_data[S])"
   ]
  },
  {
   "cell_type": "code",
   "execution_count": 196,
   "id": "2cf60b9c",
   "metadata": {},
   "outputs": [
    {
     "data": {
      "text/plain": [
       "0.9997899899518269"
      ]
     },
     "execution_count": 196,
     "metadata": {},
     "output_type": "execute_result"
    }
   ],
   "source": [
    "accuracy_score(testing_data['isFraud'], y_predict)"
   ]
  },
  {
   "cell_type": "code",
   "execution_count": null,
   "id": "b869a4ba",
   "metadata": {},
   "outputs": [],
   "source": []
  }
 ],
 "metadata": {
  "kernelspec": {
   "display_name": "Python 3 (ipykernel)",
   "language": "python",
   "name": "python3"
  },
  "language_info": {
   "codemirror_mode": {
    "name": "ipython",
    "version": 3
   },
   "file_extension": ".py",
   "mimetype": "text/x-python",
   "name": "python",
   "nbconvert_exporter": "python",
   "pygments_lexer": "ipython3",
   "version": "3.9.7"
  }
 },
 "nbformat": 4,
 "nbformat_minor": 5
}
